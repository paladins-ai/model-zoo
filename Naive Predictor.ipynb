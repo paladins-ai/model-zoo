{
 "cells": [
  {
   "cell_type": "code",
   "execution_count": 186,
   "metadata": {},
   "outputs": [],
   "source": [
    "import pyrez\n",
    "import datetime\n",
    "from random import randint as r\n",
    "from dotenv import load_dotenv\n",
    "load_dotenv()\n",
    "import os"
   ]
  },
  {
   "cell_type": "code",
   "execution_count": 187,
   "metadata": {
    "collapsed": true
   },
   "outputs": [],
   "source": [
    "import pyrez.api\n",
    "from pyrez.api import PaladinsAPI\n",
    "import pyrez.enumerations\n",
    "import pyrez.models"
   ]
  },
  {
   "cell_type": "code",
   "execution_count": 188,
   "metadata": {},
   "outputs": [
    {
     "data": {
      "text/plain": [
       "True"
      ]
     },
     "execution_count": 188,
     "metadata": {},
     "output_type": "execute_result"
    }
   ],
   "source": [
    "api = PaladinsAPI(devId=os.getenv('DEV_ID'), authKey=os.getenv('AUTH_KEY'))\n",
    "api.ping().ping"
   ]
  },
  {
   "cell_type": "code",
   "execution_count": 44,
   "metadata": {
    "scrolled": true
   },
   "outputs": [
    {
     "data": {
      "text/plain": [
       "['807379762',\n",
       " '807379766',\n",
       " '807379916',\n",
       " '807379941',\n",
       " '807379965',\n",
       " '807380010',\n",
       " '807380035',\n",
       " '807380036',\n",
       " '807380133',\n",
       " '807380223',\n",
       " '807380244',\n",
       " '807380269',\n",
       " '807380285',\n",
       " '807380311',\n",
       " '807380407',\n",
       " '807380432',\n",
       " '807380439',\n",
       " '807380474',\n",
       " '807380495',\n",
       " '807380576',\n",
       " '807380618',\n",
       " '807380623',\n",
       " '807380659',\n",
       " '807380680',\n",
       " '807380697',\n",
       " '807380740',\n",
       " '807380769',\n",
       " '807380778',\n",
       " '807380786',\n",
       " '807380841',\n",
       " '807380844',\n",
       " '807380878',\n",
       " '807380897',\n",
       " '807380930',\n",
       " '807380947',\n",
       " '807381052',\n",
       " '807381058']"
      ]
     },
     "execution_count": 44,
     "metadata": {},
     "output_type": "execute_result"
    }
   ],
   "source": [
    "# Get match data\n",
    "\n",
    "QUEUE = 486 # the Paladins Competitive Queue\n",
    "MONTH, DAY, YEAR = ( 3, 15, 2019 ) # the date to pull match data for\n",
    "HOUR = 10 # hour of play\n",
    "\n",
    "matches = api.getMatchIdsByQueue(QUEUE, datetime.date(year=YEAR, month=MONTH, day=DAY), '10,00')\n",
    "matchIds = [match.matchId for match in matches if not match.activeFlag]\n",
    "matchIds"
   ]
  },
  {
   "cell_type": "code",
   "execution_count": 45,
   "metadata": {},
   "outputs": [
    {
     "data": {
      "text/plain": [
       "37"
      ]
     },
     "execution_count": 45,
     "metadata": {},
     "output_type": "execute_result"
    }
   ],
   "source": [
    "len(matchIds)"
   ]
  },
  {
   "cell_type": "code",
   "execution_count": null,
   "metadata": {
    "scrolled": true
   },
   "outputs": [],
   "source": [
    "# We need to limit our batch requests to 10 matches per\n",
    "BATCHSIZE = 10\n",
    "\n",
    "matchData = []\n",
    "\n",
    "# from https://stackoverflow.com/questions/312443/how-do-you-split-a-list-into-evenly-sized-chunks\n",
    "def chunks(l, n):\n",
    "    \"\"\"Yield successive n-sized chunks from l.\"\"\"\n",
    "    for i in range(0, len(l), n):\n",
    "        yield l[i:i + n]\n",
    "\n",
    "for matchBatch in chunks(matchIds, 10):\n",
    "    matchData += api.makeRequest(\"getmatchdetailsbatch\", [','.join(matchBatch)])\n",
    "\n",
    "matchData # I omitted the output here as it is pretty big"
   ]
  },
  {
   "cell_type": "code",
   "execution_count": 67,
   "metadata": {},
   "outputs": [
    {
     "data": {
      "text/plain": [
       "'Ranked Serpent Beach'"
      ]
     },
     "execution_count": 67,
     "metadata": {},
     "output_type": "execute_result"
    }
   ],
   "source": [
    "matchData[2]['Map_Game']"
   ]
  },
  {
   "cell_type": "code",
   "execution_count": 70,
   "metadata": {
    "collapsed": true
   },
   "outputs": [],
   "source": [
    "maps = list(set([match['Map_Game'] for match in matchData]))"
   ]
  },
  {
   "cell_type": "code",
   "execution_count": 71,
   "metadata": {},
   "outputs": [
    {
     "data": {
      "text/plain": [
       "['Ranked Serpent Beach',\n",
       " 'Ranked Frog Isle',\n",
       " 'Ranked Stone Keep',\n",
       " 'Ranked Jaguar Falls',\n",
       " 'Ranked Fish Market',\n",
       " 'Ranked Brightmarsh',\n",
       " 'Ranked Frozen Guard',\n",
       " 'Ranked Timber Mill',\n",
       " 'Ranked Splitstone Quarry',\n",
       " 'Ranked Ascension Peak',\n",
       " \"Ranked Warder's Gate\"]"
      ]
     },
     "execution_count": 71,
     "metadata": {},
     "output_type": "execute_result"
    }
   ],
   "source": [
    "maps"
   ]
  },
  {
   "cell_type": "code",
   "execution_count": 82,
   "metadata": {},
   "outputs": [
    {
     "data": {
      "text/plain": [
       "{'map': 'Ranked Serpent Beach',\n",
       " 'team1': ['Grover', 'Fernando', 'Drogoz', 'Ash', 'Evie'],\n",
       " 'team2': ['Skye', 'Grohk', 'Seris', 'Inara', 'Makoa']}"
      ]
     },
     "execution_count": 82,
     "metadata": {},
     "output_type": "execute_result"
    }
   ],
   "source": [
    "matches = []\n",
    "for match_id in matchIds:\n",
    "    mdata = [m for m in matchData if str(m['Match']) == match_id]\n",
    "    match = {\n",
    "        # winners\n",
    "        \"team1\": [m['Reference_Name'] for m in mdata if m['Win_Status'] == 'Winner'],\n",
    "        # losers\n",
    "        \"team2\": [m['Reference_Name'] for m in mdata if m['Win_Status'] != 'Winner'],\n",
    "        # more data\n",
    "        \"map\": mdata[0]['Map_Game']\n",
    "    }\n",
    "    matches.append(match)\n",
    "\n",
    "matches[0]"
   ]
  },
  {
   "cell_type": "code",
   "execution_count": 83,
   "metadata": {},
   "outputs": [
    {
     "data": {
      "text/plain": [
       "37"
      ]
     },
     "execution_count": 83,
     "metadata": {},
     "output_type": "execute_result"
    }
   ],
   "source": [
    "len(matches)"
   ]
  },
  {
   "cell_type": "code",
   "execution_count": 84,
   "metadata": {},
   "outputs": [
    {
     "data": {
      "text/plain": [
       "37"
      ]
     },
     "execution_count": 84,
     "metadata": {},
     "output_type": "execute_result"
    }
   ],
   "source": [
    "matches = [match for match in matches if len(match['team1']) == 5 and len(match['team2']) == 5]\n",
    "len(matches)"
   ]
  },
  {
   "cell_type": "code",
   "execution_count": 85,
   "metadata": {
    "scrolled": true
   },
   "outputs": [
    {
     "data": {
      "text/plain": [
       "['Buck',\n",
       " 'Ying',\n",
       " 'Cassie',\n",
       " 'Imani',\n",
       " 'Viktor',\n",
       " 'Strix',\n",
       " 'Kinessa',\n",
       " 'Khan',\n",
       " 'Bomb King',\n",
       " 'Moji',\n",
       " 'Vivian',\n",
       " 'Seris',\n",
       " 'Maeve',\n",
       " 'Willo',\n",
       " 'Tyra',\n",
       " 'Fernando',\n",
       " 'Barik',\n",
       " 'Ash',\n",
       " 'Torvald',\n",
       " 'Talus',\n",
       " 'Makoa',\n",
       " 'Ruckus',\n",
       " 'Inara',\n",
       " 'Skye',\n",
       " 'Pip',\n",
       " 'Dredge',\n",
       " 'Furia',\n",
       " 'Evie',\n",
       " 'Sha Lin',\n",
       " 'Zhin',\n",
       " 'Jenos',\n",
       " 'Lian',\n",
       " \"Mal'Damba\",\n",
       " 'Terminus',\n",
       " 'Androxus',\n",
       " 'Lex',\n",
       " 'Grohk',\n",
       " 'Drogoz',\n",
       " 'Grover',\n",
       " 'Koga']"
      ]
     },
     "execution_count": 85,
     "metadata": {},
     "output_type": "execute_result"
    }
   ],
   "source": [
    "champions = list(set([match['Reference_Name'] for match in matchData]))\n",
    "champions"
   ]
  },
  {
   "cell_type": "code",
   "execution_count": 87,
   "metadata": {},
   "outputs": [
    {
     "data": {
      "text/plain": [
       "array([0., 0., 1., 0., 0., 0., 0., 0., 0., 0., 0., 0., 0., 0., 0., 0., 0.,\n",
       "       0., 0., 0., 0., 0., 0., 0., 0., 0., 0., 0., 0., 0., 0., 0., 0., 0.,\n",
       "       0., 0., 0., 0., 0., 0.])"
      ]
     },
     "execution_count": 87,
     "metadata": {},
     "output_type": "execute_result"
    }
   ],
   "source": [
    "import numpy as np\n",
    "\n",
    "def one_hot(outcome, possibilities):\n",
    "    assert outcome in possibilities\n",
    "    arr = np.zeros(len(possibilities))\n",
    "    arr[possibilities.index(outcome)] = 1\n",
    "    return arr\n",
    "\n",
    "one_hot('Cassie', champions)"
   ]
  },
  {
   "cell_type": "code",
   "execution_count": 160,
   "metadata": {},
   "outputs": [
    {
     "data": {
      "text/plain": [
       "((37, 412), (37, 2))"
      ]
     },
     "execution_count": 160,
     "metadata": {},
     "output_type": "execute_result"
    }
   ],
   "source": [
    "def clean(match):\n",
    "    winners = match['team1']\n",
    "    losers = match['team2']\n",
    "    x_winners = np.concatenate([one_hot(winner, champions) for winner in winners])\n",
    "    x_losers = np.concatenate([one_hot(loser, champions) for loser in losers])\n",
    "    x_map = one_hot(match['map'], maps)\n",
    "    # shuffle team 1 and 2, mark the winner\n",
    "    if r(0,1) > 0:\n",
    "        return [np.concatenate((x_map, x_winners, x_losers)), np.array([1,0])]\n",
    "    else:\n",
    "        return [np.concatenate((x_map, x_losers, x_winners)), np.array([0,1])]\n",
    "\n",
    "data = [clean(match) for match in matches]\n",
    "X = []\n",
    "Y = []\n",
    "for x, y in data:\n",
    "    X.append(x)\n",
    "    Y.append(y)\n",
    "X, Y = np.array(X), np.array(Y)\n",
    "X.shape, Y.shape"
   ]
  },
  {
   "cell_type": "code",
   "execution_count": 126,
   "metadata": {},
   "outputs": [],
   "source": [
    "X = X.reshape((len(X), X[0].shape[0]))\n",
    "Y = Y.reshape((len(Y), 2))"
   ]
  },
  {
   "cell_type": "code",
   "execution_count": 127,
   "metadata": {},
   "outputs": [
    {
     "data": {
      "text/plain": [
       "((37, 411), (37, 2))"
      ]
     },
     "execution_count": 127,
     "metadata": {},
     "output_type": "execute_result"
    }
   ],
   "source": [
    "X.shape, Y.shape"
   ]
  },
  {
   "cell_type": "code",
   "execution_count": 128,
   "metadata": {},
   "outputs": [
    {
     "name": "stdout",
     "output_type": "stream",
     "text": [
      "Train on 33 samples, validate on 4 samples\n",
      "Epoch 1/5\n",
      "33/33 [==============================] - 1s 18ms/step - loss: 0.3756 - val_loss: 0.4631\n",
      "Epoch 2/5\n",
      "33/33 [==============================] - 0s 6ms/step - loss: 0.1310 - val_loss: 0.4264\n",
      "Epoch 3/5\n",
      "33/33 [==============================] - 0s 6ms/step - loss: 0.0454 - val_loss: 0.4296\n",
      "Epoch 4/5\n",
      "33/33 [==============================] - 0s 5ms/step - loss: 0.0326 - val_loss: 0.4334\n",
      "Epoch 5/5\n",
      "33/33 [==============================] - 0s 6ms/step - loss: 0.0308 - val_loss: 0.4379\n"
     ]
    },
    {
     "data": {
      "text/plain": [
       "<keras.callbacks.History at 0x7f3dac078320>"
      ]
     },
     "execution_count": 128,
     "metadata": {},
     "output_type": "execute_result"
    }
   ],
   "source": [
    "# Naive Winner Predictor\n",
    "\n",
    "from keras.models import Sequential\n",
    "from keras.layers import Dense\n",
    "\n",
    "# Objective: predict if team 1 will win the game\n",
    "model = Sequential()\n",
    "model.add(Dense(1024, input_shape=(X.shape[1],), name='Input'))\n",
    "model.add(Dense(64, activation='tanh', name='Hidden'))\n",
    "model.add(Dense(Y.shape[1], activation='relu', name='Output'))\n",
    "model.compile(optimizer='sgd', loss='mean_squared_error')\n",
    "\n",
    "model.fit(X, Y, batch_size=1, epochs=5, validation_split=0.1, shuffle=True)"
   ]
  },
  {
   "cell_type": "code",
   "execution_count": 143,
   "metadata": {},
   "outputs": [],
   "source": [
    "from tqdm import tqdm_notebook as tqdm\n",
    "# Scrape data for an entire day\n",
    "BATCHSIZE=10\n",
    "\n",
    "matchData = matchData\n",
    "\n",
    "def scrape_day(QUEUE=486, MONTH=3, DAY=14, YEAR=2019, matchData = matchData):\n",
    "    matchIds = []\n",
    "    print(\"Getting match ids...\")\n",
    "    for HOUR in tqdm(range(24)):\n",
    "        for mm in ['00', '10', '20', '30', '40', '50']:\n",
    "            _matches = api.getMatchIdsByQueue(QUEUE, datetime.date(year=YEAR, month=MONTH, day=DAY), '%02d,%s' % (HOUR,mm))\n",
    "            if not _matches:\n",
    "                continue\n",
    "            matchIds = [match.matchId for match in _matches if not match.activeFlag]\n",
    "    print('Fetching matches')\n",
    "    for matchBatch in tqdm(chunks(matchIds, BATCHSIZE)):\n",
    "        matchData += api.makeRequest('getmatchdetailsbatch', [','.join(matchBatch)])"
   ]
  },
  {
   "cell_type": "code",
   "execution_count": 144,
   "metadata": {},
   "outputs": [
    {
     "name": "stdout",
     "output_type": "stream",
     "text": [
      "Getting match ids...\n"
     ]
    },
    {
     "data": {
      "application/vnd.jupyter.widget-view+json": {
       "model_id": "5ba6423632144301b19bc06949a3a3ba",
       "version_major": 2,
       "version_minor": 0
      },
      "text/plain": [
       "A Jupyter Widget"
      ]
     },
     "metadata": {},
     "output_type": "display_data"
    },
    {
     "name": "stdout",
     "output_type": "stream",
     "text": [
      "\n",
      "Fetching matches\n"
     ]
    },
    {
     "data": {
      "application/vnd.jupyter.widget-view+json": {
       "model_id": "29d51aaab3bb4c269f4d60bda8e018b7",
       "version_major": 2,
       "version_minor": 0
      },
      "text/plain": [
       "A Jupyter Widget"
      ]
     },
     "metadata": {},
     "output_type": "display_data"
    },
    {
     "name": "stdout",
     "output_type": "stream",
     "text": [
      "\n"
     ]
    }
   ],
   "source": [
    "# this can take a while be careful running it!!!!!\n",
    "\n",
    "scrape_day()"
   ]
  },
  {
   "cell_type": "code",
   "execution_count": 145,
   "metadata": {},
   "outputs": [
    {
     "data": {
      "text/plain": [
       "1140"
      ]
     },
     "execution_count": 145,
     "metadata": {},
     "output_type": "execute_result"
    }
   ],
   "source": [
    "len(matchData)"
   ]
  },
  {
   "cell_type": "code",
   "execution_count": 177,
   "metadata": {},
   "outputs": [
    {
     "name": "stdout",
     "output_type": "stream",
     "text": [
      "Train on 33 samples, validate on 4 samples\n",
      "Epoch 1/5\n",
      "33/33 [==============================] - 0s 12ms/step - loss: 0.3840 - val_loss: 0.2937\n",
      "Epoch 2/5\n",
      "33/33 [==============================] - 0s 5ms/step - loss: 0.1373 - val_loss: 0.2746\n",
      "Epoch 3/5\n",
      "33/33 [==============================] - 0s 5ms/step - loss: 0.0463 - val_loss: 0.2516\n",
      "Epoch 4/5\n",
      "33/33 [==============================] - 0s 5ms/step - loss: 0.0227 - val_loss: 0.2422\n",
      "Epoch 5/5\n",
      "33/33 [==============================] - 0s 6ms/step - loss: 0.0175 - val_loss: 0.2395\n"
     ]
    },
    {
     "data": {
      "text/plain": [
       "<keras.callbacks.History at 0x7f3d6ef60470>"
      ]
     },
     "execution_count": 177,
     "metadata": {},
     "output_type": "execute_result"
    }
   ],
   "source": [
    "# MAIN TRAINING CELL\n",
    "# CREATE AND TRAIN THE MODEL\n",
    "# THIS IS ALMOST INSTANT ON A 1060 WITH 6GB VRAM\n",
    "# AND ONLY TAKES A COUPLE SECONDS ON A i7\n",
    "# THEREFORE, THIS IS NOT GOING TO BE OPTIMIZED TO ALLOW FOR RETRAINING SINCE TRAINING FROM SCRATCH IS EFFICIENT\n",
    "\n",
    "maps = list(set([match['Map_Game'] for match in matchData]))\n",
    "matches = []\n",
    "for match_id in matchIds:\n",
    "    mdata = [m for m in matchData if str(m['Match']) == match_id]\n",
    "    match = {\n",
    "        # winners\n",
    "        \"team1\": [m['Reference_Name'] for m in mdata if m['Win_Status'] == 'Winner'],\n",
    "        # losers\n",
    "        \"team2\": [m['Reference_Name'] for m in mdata if m['Win_Status'] != 'Winner'],\n",
    "        # more data\n",
    "        \"map\": mdata[0]['Map_Game']\n",
    "    }\n",
    "    matches.append(match)\n",
    "\n",
    "matches = [match for match in matches if len(match['team1']) == 5 and len(match['team2']) == 5]\n",
    "champions = list(set([match['Reference_Name'] for match in matchData]))\n",
    "\n",
    "data = [clean(match) for match in matches]\n",
    "X = []\n",
    "Y = []\n",
    "for x, y in data:\n",
    "    X.append(x)\n",
    "    Y.append(y)\n",
    "X, Y = np.array(X), np.array(Y)\n",
    "X = X.reshape((len(X), X[0].shape[0]))\n",
    "Y = Y.reshape((len(Y), 2))\n",
    "\n",
    "# Naive Winner Predictor, but this time with 1k+ matches\n",
    "\n",
    "# Objective: predict if team 1 will win the game\n",
    "model = Sequential()\n",
    "model.add(Dense(1024, input_shape=(X.shape[1],), name='Input'))\n",
    "model.add(Dense(64, activation='tanh', name='Hidden'))\n",
    "model.add(Dense(Y.shape[1], activation='relu', name='Output'))\n",
    "model.compile(optimizer='sgd', loss='mean_squared_error')\n",
    "\n",
    "model.fit(X, Y, batch_size=1, epochs=5, validation_split=0.1, shuffle=True)"
   ]
  },
  {
   "cell_type": "code",
   "execution_count": 178,
   "metadata": {},
   "outputs": [
    {
     "name": "stdout",
     "output_type": "stream",
     "text": [
      "Train on 27 samples, validate on 10 samples\n",
      "Epoch 1/20\n",
      "27/27 [==============================] - 0s 5ms/step - loss: 6.1354e-04 - val_loss: 0.1451\n",
      "Epoch 2/20\n",
      "27/27 [==============================] - 0s 5ms/step - loss: 1.6009e-04 - val_loss: 0.1449\n",
      "Epoch 3/20\n",
      "27/27 [==============================] - 0s 5ms/step - loss: 3.9798e-05 - val_loss: 0.1444\n",
      "Epoch 4/20\n",
      "27/27 [==============================] - 0s 5ms/step - loss: 1.0562e-05 - val_loss: 0.1443\n",
      "Epoch 5/20\n",
      "27/27 [==============================] - 0s 6ms/step - loss: 3.8069e-06 - val_loss: 0.1443\n",
      "Epoch 6/20\n",
      "27/27 [==============================] - 0s 5ms/step - loss: 1.1582e-06 - val_loss: 0.1442\n",
      "Epoch 7/20\n",
      "27/27 [==============================] - 0s 6ms/step - loss: 3.0285e-07 - val_loss: 0.1442\n",
      "Epoch 8/20\n",
      "27/27 [==============================] - 0s 6ms/step - loss: 9.7655e-08 - val_loss: 0.1442\n",
      "Epoch 9/20\n",
      "27/27 [==============================] - 0s 4ms/step - loss: 3.4111e-08 - val_loss: 0.1442\n",
      "Epoch 10/20\n",
      "27/27 [==============================] - 0s 5ms/step - loss: 1.0567e-08 - val_loss: 0.1442\n",
      "Epoch 11/20\n",
      "27/27 [==============================] - 0s 6ms/step - loss: 3.0900e-09 - val_loss: 0.1442\n",
      "Epoch 12/20\n",
      "27/27 [==============================] - 0s 6ms/step - loss: 1.0502e-09 - val_loss: 0.1442\n",
      "Epoch 13/20\n",
      "27/27 [==============================] - 0s 6ms/step - loss: 3.0637e-10 - val_loss: 0.1442\n",
      "Epoch 14/20\n",
      "27/27 [==============================] - 0s 5ms/step - loss: 9.4623e-11 - val_loss: 0.1442\n",
      "Epoch 15/20\n",
      "27/27 [==============================] - 0s 5ms/step - loss: 2.9191e-11 - val_loss: 0.1442\n",
      "Epoch 16/20\n",
      "27/27 [==============================] - 0s 5ms/step - loss: 1.0018e-11 - val_loss: 0.1442\n",
      "Epoch 17/20\n",
      "27/27 [==============================] - 0s 5ms/step - loss: 4.2723e-12 - val_loss: 0.1442\n",
      "Epoch 18/20\n",
      "27/27 [==============================] - 0s 6ms/step - loss: 1.6195e-12 - val_loss: 0.1442\n",
      "Epoch 19/20\n",
      "27/27 [==============================] - 0s 5ms/step - loss: 8.4268e-13 - val_loss: 0.1442\n",
      "Epoch 20/20\n",
      "27/27 [==============================] - 0s 5ms/step - loss: 5.2576e-13 - val_loss: 0.1442\n"
     ]
    },
    {
     "data": {
      "text/plain": [
       "<keras.callbacks.History at 0x7f3d6f615940>"
      ]
     },
     "execution_count": 178,
     "metadata": {},
     "output_type": "execute_result"
    }
   ],
   "source": [
    "# RUN THIS TOO EVERY TIME TO COMPLETE TRAINING, THE ABOVE OUTPUT IS TO VERIFY IT COMPILES\n",
    "model.fit(X, Y, batch_size=1, epochs=20, validation_split=0.25, shuffle=True)"
   ]
  },
  {
   "cell_type": "code",
   "execution_count": 179,
   "metadata": {},
   "outputs": [
    {
     "data": {
      "text/plain": [
       "array([[0.9999994, 0.       ]], dtype=float32)"
      ]
     },
     "execution_count": 179,
     "metadata": {},
     "output_type": "execute_result"
    }
   ],
   "source": [
    "model.predict(np.array([X[0]]))"
   ]
  },
  {
   "cell_type": "code",
   "execution_count": 180,
   "metadata": {},
   "outputs": [
    {
     "data": {
      "text/plain": [
       "array([1, 0])"
      ]
     },
     "execution_count": 180,
     "metadata": {},
     "output_type": "execute_result"
    }
   ],
   "source": [
    "Y[0]"
   ]
  },
  {
   "cell_type": "code",
   "execution_count": 181,
   "metadata": {
    "collapsed": true
   },
   "outputs": [],
   "source": [
    "model.save('naive_winrate_predictor-6k.hd5')"
   ]
  },
  {
   "cell_type": "code",
   "execution_count": 182,
   "metadata": {},
   "outputs": [
    {
     "data": {
      "text/plain": [
       "{'Team 1': 0.6888402, 'Team 2': 0.22788137}"
      ]
     },
     "execution_count": 182,
     "metadata": {},
     "output_type": "execute_result"
    }
   ],
   "source": [
    "def predict_game(mapname, team1, team2):\n",
    "    # predicts probabilities of winning for both teams\n",
    "    X = np.concatenate((\n",
    "        one_hot(match['map'], maps),\n",
    "        np.concatenate([one_hot(champion, champions) for champion in team1]),\n",
    "        np.concatenate([one_hot(champion, champions) for champion in team2])\n",
    "    ))\n",
    "    X = np.array([X])\n",
    "    result_t1, result_t2 = model.predict(X)[0]\n",
    "    return {\n",
    "        'Team 1': result_t1,\n",
    "        'Team 2': result_t2\n",
    "    }\n",
    "\n",
    "predict_game(matches[0]['map'], matches[0]['team1'], matches[0]['team2'])"
   ]
  },
  {
   "cell_type": "code",
   "execution_count": 183,
   "metadata": {},
   "outputs": [
    {
     "data": {
      "text/plain": [
       "array([1, 0])"
      ]
     },
     "execution_count": 183,
     "metadata": {},
     "output_type": "execute_result"
    }
   ],
   "source": [
    "Y[0]"
   ]
  },
  {
   "cell_type": "code",
   "execution_count": 184,
   "metadata": {},
   "outputs": [
    {
     "data": {
      "text/plain": [
       "['Ranked Serpent Beach',\n",
       " 'Ranked Frog Isle',\n",
       " 'Ranked Stone Keep',\n",
       " 'Ranked Jaguar Falls',\n",
       " 'Ranked Fish Market',\n",
       " 'Ranked Brightmarsh',\n",
       " 'Ranked Frozen Guard',\n",
       " 'Ranked Timber Mill',\n",
       " 'Ranked Splitstone Quarry',\n",
       " 'Ranked Ice Mines',\n",
       " 'Ranked Ascension Peak',\n",
       " \"Ranked Warder's Gate\"]"
      ]
     },
     "execution_count": 184,
     "metadata": {},
     "output_type": "execute_result"
    }
   ],
   "source": [
    "maps"
   ]
  },
  {
   "cell_type": "code",
   "execution_count": 185,
   "metadata": {
    "scrolled": true
   },
   "outputs": [
    {
     "data": {
      "text/plain": [
       "['Buck',\n",
       " 'Ying',\n",
       " 'Cassie',\n",
       " 'Imani',\n",
       " 'Viktor',\n",
       " 'Strix',\n",
       " 'Kinessa',\n",
       " 'Khan',\n",
       " 'Bomb King',\n",
       " 'Moji',\n",
       " 'Vivian',\n",
       " 'Seris',\n",
       " 'Maeve',\n",
       " 'Willo',\n",
       " 'Tyra',\n",
       " 'Fernando',\n",
       " 'Barik',\n",
       " 'Ash',\n",
       " 'Torvald',\n",
       " 'Talus',\n",
       " 'Makoa',\n",
       " 'Ruckus',\n",
       " 'Inara',\n",
       " 'Skye',\n",
       " 'Pip',\n",
       " 'Dredge',\n",
       " 'Furia',\n",
       " 'Evie',\n",
       " 'Sha Lin',\n",
       " 'Zhin',\n",
       " 'Jenos',\n",
       " 'Lian',\n",
       " \"Mal'Damba\",\n",
       " 'Terminus',\n",
       " 'Androxus',\n",
       " 'Lex',\n",
       " 'Grohk',\n",
       " 'Drogoz',\n",
       " 'Grover',\n",
       " 'Koga']"
      ]
     },
     "execution_count": 185,
     "metadata": {},
     "output_type": "execute_result"
    }
   ],
   "source": [
    "champions"
   ]
  },
  {
   "cell_type": "code",
   "execution_count": 174,
   "metadata": {},
   "outputs": [
    {
     "data": {
      "text/plain": [
       "{'Team 1': 0.0, 'Team 2': 0.6599741}"
      ]
     },
     "execution_count": 174,
     "metadata": {},
     "output_type": "execute_result"
    }
   ],
   "source": [
    "predict_game('Ranked Jaguar Falls', [\n",
    "    'Evie',\n",
    "    'Lian',\n",
    "    'Ash',\n",
    "    'Drogoz',\n",
    "    'Jenos'\n",
    "], [\n",
    "    'Talus',\n",
    "    'Grohk',\n",
    "    'Viktor',\n",
    "    'Tyra',\n",
    "    'Khan'\n",
    "])"
   ]
  },
  {
   "cell_type": "code",
   "execution_count": 175,
   "metadata": {
    "scrolled": true
   },
   "outputs": [
    {
     "name": "stdout",
     "output_type": "stream",
     "text": [
      "Getting match ids...\n"
     ]
    },
    {
     "data": {
      "application/vnd.jupyter.widget-view+json": {
       "model_id": "9a72028246064d47a5a14d79e59632ca",
       "version_major": 2,
       "version_minor": 0
      },
      "text/plain": [
       "A Jupyter Widget"
      ]
     },
     "metadata": {},
     "output_type": "display_data"
    },
    {
     "name": "stdout",
     "output_type": "stream",
     "text": [
      "\n",
      "Fetching matches\n"
     ]
    },
    {
     "data": {
      "application/vnd.jupyter.widget-view+json": {
       "model_id": "4530119ace364c5f8b436273944d7a6f",
       "version_major": 2,
       "version_minor": 0
      },
      "text/plain": [
       "A Jupyter Widget"
      ]
     },
     "metadata": {},
     "output_type": "display_data"
    },
    {
     "name": "stdout",
     "output_type": "stream",
     "text": [
      "\n",
      "Getting match ids...\n"
     ]
    },
    {
     "data": {
      "application/vnd.jupyter.widget-view+json": {
       "model_id": "52e9e0fc89c3484dbce33511d2b9cd58",
       "version_major": 2,
       "version_minor": 0
      },
      "text/plain": [
       "A Jupyter Widget"
      ]
     },
     "metadata": {},
     "output_type": "display_data"
    },
    {
     "name": "stdout",
     "output_type": "stream",
     "text": [
      "\n",
      "Fetching matches\n"
     ]
    },
    {
     "data": {
      "application/vnd.jupyter.widget-view+json": {
       "model_id": "bdac256e5f454af89783c554b932c5ab",
       "version_major": 2,
       "version_minor": 0
      },
      "text/plain": [
       "A Jupyter Widget"
      ]
     },
     "metadata": {},
     "output_type": "display_data"
    },
    {
     "name": "stdout",
     "output_type": "stream",
     "text": [
      "\n",
      "Getting match ids...\n"
     ]
    },
    {
     "data": {
      "application/vnd.jupyter.widget-view+json": {
       "model_id": "e47595b822664a4bb5f1318f513529d3",
       "version_major": 2,
       "version_minor": 0
      },
      "text/plain": [
       "A Jupyter Widget"
      ]
     },
     "metadata": {},
     "output_type": "display_data"
    },
    {
     "name": "stdout",
     "output_type": "stream",
     "text": [
      "\n",
      "Fetching matches\n"
     ]
    },
    {
     "data": {
      "application/vnd.jupyter.widget-view+json": {
       "model_id": "5610152e6e76475b9d75e97405790859",
       "version_major": 2,
       "version_minor": 0
      },
      "text/plain": [
       "A Jupyter Widget"
      ]
     },
     "metadata": {},
     "output_type": "display_data"
    },
    {
     "name": "stdout",
     "output_type": "stream",
     "text": [
      "\n",
      "Getting match ids...\n"
     ]
    },
    {
     "data": {
      "application/vnd.jupyter.widget-view+json": {
       "model_id": "ca18850d2c3741e9af02e4db359024bd",
       "version_major": 2,
       "version_minor": 0
      },
      "text/plain": [
       "A Jupyter Widget"
      ]
     },
     "metadata": {},
     "output_type": "display_data"
    },
    {
     "name": "stdout",
     "output_type": "stream",
     "text": [
      "\n",
      "Fetching matches\n"
     ]
    },
    {
     "data": {
      "application/vnd.jupyter.widget-view+json": {
       "model_id": "fc9c6f3699094655b8fbac74d5d8d48a",
       "version_major": 2,
       "version_minor": 0
      },
      "text/plain": [
       "A Jupyter Widget"
      ]
     },
     "metadata": {},
     "output_type": "display_data"
    },
    {
     "name": "stdout",
     "output_type": "stream",
     "text": [
      "\n",
      "Getting match ids...\n"
     ]
    },
    {
     "data": {
      "application/vnd.jupyter.widget-view+json": {
       "model_id": "2805534f25cc4394aeeb829c25e1b366",
       "version_major": 2,
       "version_minor": 0
      },
      "text/plain": [
       "A Jupyter Widget"
      ]
     },
     "metadata": {},
     "output_type": "display_data"
    },
    {
     "name": "stdout",
     "output_type": "stream",
     "text": [
      "\n",
      "Fetching matches\n"
     ]
    },
    {
     "data": {
      "application/vnd.jupyter.widget-view+json": {
       "model_id": "c3f5c633577848878bfbfd044c9be1bc",
       "version_major": 2,
       "version_minor": 0
      },
      "text/plain": [
       "A Jupyter Widget"
      ]
     },
     "metadata": {},
     "output_type": "display_data"
    },
    {
     "name": "stdout",
     "output_type": "stream",
     "text": [
      "\n",
      "Getting match ids...\n"
     ]
    },
    {
     "data": {
      "application/vnd.jupyter.widget-view+json": {
       "model_id": "bbf2b0c51bc041779547b8faaafe0fca",
       "version_major": 2,
       "version_minor": 0
      },
      "text/plain": [
       "A Jupyter Widget"
      ]
     },
     "metadata": {},
     "output_type": "display_data"
    },
    {
     "name": "stdout",
     "output_type": "stream",
     "text": [
      "\n",
      "Fetching matches\n"
     ]
    },
    {
     "data": {
      "application/vnd.jupyter.widget-view+json": {
       "model_id": "c046b84865154de9a3bb6bdb4b1ebf01",
       "version_major": 2,
       "version_minor": 0
      },
      "text/plain": [
       "A Jupyter Widget"
      ]
     },
     "metadata": {},
     "output_type": "display_data"
    },
    {
     "name": "stdout",
     "output_type": "stream",
     "text": [
      "\n"
     ]
    }
   ],
   "source": [
    "# this time im going to collect much much more data (a whole week around that day)\n",
    "# btw this takes a REALLLLLLY long time so don't run this too often\n",
    "\n",
    "scrape_day(MONTH=3, DAY=9, YEAR=2019)\n",
    "scrape_day(MONTH=3, DAY=10, YEAR=2019)\n",
    "scrape_day(MONTH=3, DAY=11, YEAR=2019)\n",
    "scrape_day(MONTH=3, DAY=12, YEAR=2019)\n",
    "scrape_day(MONTH=3, DAY=13, YEAR=2019)\n",
    "scrape_day(MONTH=3, DAY=15, YEAR=2019)"
   ]
  },
  {
   "cell_type": "code",
   "execution_count": 176,
   "metadata": {},
   "outputs": [
    {
     "data": {
      "text/plain": [
       "6470"
      ]
     },
     "execution_count": 176,
     "metadata": {},
     "output_type": "execute_result"
    }
   ],
   "source": [
    "len(matchData) # run this then go back to the training cell"
   ]
  },
  {
   "cell_type": "code",
   "execution_count": null,
   "metadata": {
    "collapsed": true
   },
   "outputs": [],
   "source": []
  }
 ],
 "metadata": {
  "kernelspec": {
   "display_name": "Python 3",
   "language": "python",
   "name": "python3"
  },
  "language_info": {
   "codemirror_mode": {
    "name": "ipython",
    "version": 3
   },
   "file_extension": ".py",
   "mimetype": "text/x-python",
   "name": "python",
   "nbconvert_exporter": "python",
   "pygments_lexer": "ipython3",
   "version": "3.6.3"
  }
 },
 "nbformat": 4,
 "nbformat_minor": 2
}
